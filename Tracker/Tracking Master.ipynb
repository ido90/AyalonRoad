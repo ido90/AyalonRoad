{
 "cells": [
  {
   "cell_type": "markdown",
   "metadata": {},
   "source": [
    "# Tracking Master"
   ]
  },
  {
   "cell_type": "markdown",
   "metadata": {},
   "source": [
    "This notebook applies detection and tracking for all the 81 videos in the project, and saves a summary of the results."
   ]
  },
  {
   "cell_type": "code",
   "execution_count": 1,
   "metadata": {},
   "outputs": [],
   "source": [
    "%reload_ext autoreload\n",
    "%autoreload 2\n",
    "%matplotlib inline"
   ]
  },
  {
   "cell_type": "code",
   "execution_count": 2,
   "metadata": {},
   "outputs": [],
   "source": [
    "import os, sys, time, datetime, random\n",
    "from pathlib import Path\n",
    "from warnings import warn\n",
    "from tqdm import tqdm, tnrange, tqdm_notebook\n",
    "import pickle as pkl\n",
    "import gc\n",
    "\n",
    "import numpy as np\n",
    "import pandas as pd\n",
    "import matplotlib as mpl\n",
    "import matplotlib.pyplot as plt\n",
    "\n",
    "import Tracker as t"
   ]
  },
  {
   "cell_type": "code",
   "execution_count": 3,
   "metadata": {},
   "outputs": [],
   "source": [
    "if '../Detector' not in sys.path: sys.path.append('../Detector')\n",
    "import DetectorNetwork as dn"
   ]
  },
  {
   "cell_type": "code",
   "execution_count": 4,
   "metadata": {},
   "outputs": [],
   "source": [
    "# Configuration\n",
    "\n",
    "META_SOURCE = r'../Photographer/videos_metadata.csv'\n",
    "\n",
    "CROP = True\n",
    "FRAME_CONSTRAINTS_LEVEL = 2\n",
    "MAX_FRAMES = np.Inf\n",
    "\n",
    "DETECTOR = '../detector/models/model_15images.mdl'"
   ]
  },
  {
   "cell_type": "code",
   "execution_count": 98,
   "metadata": {},
   "outputs": [
    {
     "data": {
      "text/plain": [
       "(17, 1, 63)"
      ]
     },
     "execution_count": 98,
     "metadata": {},
     "output_type": "execute_result"
    }
   ],
   "source": [
    "# Initialization\n",
    "\n",
    "videos_dir = Path(r'D:\\Media\\Videos\\Ayalon')\n",
    "\n",
    "vdf = pd.read_csv(META_SOURCE, index_col=0)\n",
    "videos1 = [video[:-4] for video in vdf.loc[vdf.video<'20190525_2000', 'video']]\n",
    "videos2 = [video[:-4] for video in vdf.loc[np.logical_and('20190525_2000'<vdf.video,vdf.video<'20190526_1200'), 'video']]\n",
    "videos3 = [video[:-4] for video in vdf.loc['20190526_1200'<vdf.video, 'video']]\n",
    "len(videos1), len(videos2), len(videos3)"
   ]
  },
  {
   "cell_type": "code",
   "execution_count": 78,
   "metadata": {},
   "outputs": [
    {
     "name": "stdout",
     "output_type": "stream",
     "text": [
      "Processing group 0...\n"
     ]
    },
    {
     "data": {
      "application/vnd.jupyter.widget-view+json": {
       "model_id": "ffd208cae1c44da39ed8edefc19da286",
       "version_major": 2,
       "version_minor": 0
      },
      "text/plain": [
       "HBox(children=(IntProgress(value=0, max=1), HTML(value='')))"
      ]
     },
     "metadata": {},
     "output_type": "display_data"
    },
    {
     "data": {
      "application/vnd.jupyter.widget-view+json": {
       "model_id": "cad84d9f243d46abbb738fd2ea76dc56",
       "version_major": 2,
       "version_minor": 0
      },
      "text/plain": [
       "HBox(children=(IntProgress(value=0, max=50), HTML(value='')))"
      ]
     },
     "metadata": {},
     "output_type": "display_data"
    },
    {
     "name": "stdout",
     "output_type": "stream",
     "text": [
      "Processing group 1...\n"
     ]
    },
    {
     "data": {
      "application/vnd.jupyter.widget-view+json": {
       "model_id": "6e558043baa8407ca2d05985034a4665",
       "version_major": 2,
       "version_minor": 0
      },
      "text/plain": [
       "HBox(children=(IntProgress(value=0, max=1), HTML(value='')))"
      ]
     },
     "metadata": {},
     "output_type": "display_data"
    },
    {
     "data": {
      "application/vnd.jupyter.widget-view+json": {
       "model_id": "c232c7f1c4974cef80f039e853113ff9",
       "version_major": 2,
       "version_minor": 0
      },
      "text/plain": [
       "HBox(children=(IntProgress(value=0, max=50), HTML(value='')))"
      ]
     },
     "metadata": {},
     "output_type": "display_data"
    },
    {
     "name": "stdout",
     "output_type": "stream",
     "text": [
      "Processing group 2...\n"
     ]
    },
    {
     "data": {
      "application/vnd.jupyter.widget-view+json": {
       "model_id": "0b7e8c443739485891ece453a85dc0db",
       "version_major": 2,
       "version_minor": 0
      },
      "text/plain": [
       "HBox(children=(IntProgress(value=0, max=1), HTML(value='')))"
      ]
     },
     "metadata": {},
     "output_type": "display_data"
    },
    {
     "data": {
      "application/vnd.jupyter.widget-view+json": {
       "model_id": "17a07b1c68ec413a9a64b1d6da107919",
       "version_major": 2,
       "version_minor": 0
      },
      "text/plain": [
       "HBox(children=(IntProgress(value=0, max=50), HTML(value='')))"
      ]
     },
     "metadata": {},
     "output_type": "display_data"
    }
   ],
   "source": [
    "# MEGA RUN\n",
    "\n",
    "cars_per_video = [[],[],[]]\n",
    "for g,videos in enumerate((videos1, videos2, videos3)):\n",
    "    print(f'Processing group {g+1:d}...')\n",
    "    \n",
    "    # set crop-area for videos group\n",
    "    area = t.get_cropped_frame_area(videos[0]) if CROP else None\n",
    "    \n",
    "    # load model for videos group\n",
    "    model = t.get_detector(area, constraints_level=FRAME_CONSTRAINTS_LEVEL)\n",
    "    \n",
    "    # go over videos\n",
    "    for video in tqdm_notebook(videos):\n",
    "        video_path = str(videos_dir/(video+'.mp4'))\n",
    "        X, Y, S, N = t.process_video(model, video_path, area=area, max_frames=MAX_FRAMES, display=0, to_save=True, verbose=0)\n",
    "        res = t.summarize_video(X, Y, S, video+'.mp4', area[1]-area[0], area[3]-area[2], to_save=2, verbose=False)\n",
    "        assert(res[0].shape[1]==63), res[0].shape[1]\n",
    "        cars_per_video[g].append(res[0].shape[0])"
   ]
  },
  {
   "cell_type": "code",
   "execution_count": 96,
   "metadata": {},
   "outputs": [
    {
     "data": {
      "image/png": "[encoded data removed]",
      "text/plain": [
       "<Figure size 1296x288 with 3 Axes>"
      ]
     },
     "metadata": {
      "needs_background": "light"
     },
     "output_type": "display_data"
    }
   ],
   "source": [
    "# Sanity check\n",
    "mpl.rcParams.update({'font.size': 14})\n",
    "\n",
    "_, axs = plt.subplots(1,3, figsize=(18,4))\n",
    "\n",
    "for i in range(3):\n",
    "    ax = axs[i]\n",
    "    t.qplot(cars_per_video[i], ax=ax, ylab=f'Tracked cars (group {i+1:d})')\n",
    "    \n",
    "plt.tight_layout()"
   ]
  }
 ],
 "metadata": {
  "kernelspec": {
   "display_name": "Python [conda env:root] *",
   "language": "python",
   "name": "conda-root-py"
  },
  "language_info": {
   "codemirror_mode": {
    "name": "ipython",
    "version": 3
   },
   "file_extension": ".py",
   "mimetype": "text/x-python",
   "name": "python",
   "nbconvert_exporter": "python",
   "pygments_lexer": "ipython3",
   "version": "3.7.3"
  }
 },
 "nbformat": 4,
 "nbformat_minor": 2
}
