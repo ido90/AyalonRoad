{
 "cells": [
  {
   "cell_type": "markdown",
   "metadata": {},
   "source": [
    "# Frame Sampler\n",
    "\n",
    "This notebook samples frames from the videos database to be used for data annotation and model training.\n",
    "\n",
    "Since transfer learning is intended to be used based on a very similar problem, and since each frame contains at least tens of objects, there will hopefully be no need for many frames to manually-annotate."
   ]
  },
  {
   "cell_type": "code",
   "execution_count": 1,
   "metadata": {
    "collapsed": true
   },
   "outputs": [],
   "source": [
    "%reload_ext autoreload\n",
    "%autoreload 2\n",
    "%matplotlib inline"
   ]
  },
  {
   "cell_type": "code",
   "execution_count": 2,
   "metadata": {
    "collapsed": true
   },
   "outputs": [],
   "source": [
    "import os, sys\n",
    "from pathlib import Path\n",
    "\n",
    "import numpy as np\n",
    "import matplotlib as mpl\n",
    "import matplotlib.pyplot as plt\n",
    "import cv2\n",
    "from PIL import Image"
   ]
  },
  {
   "cell_type": "code",
   "execution_count": 3,
   "metadata": {
    "collapsed": true
   },
   "outputs": [],
   "source": [
    "N_VIDEOS = 12\n",
    "FRAMES_PER_VIDEO = 1\n",
    "\n",
    "INPUT = Path(r'D:\\Media\\Videos\\Ayalon')\n",
    "OUTPUT = Path(r'sampled_frames')"
   ]
  },
  {
   "cell_type": "markdown",
   "metadata": {},
   "source": [
    "### Sample videos"
   ]
  },
  {
   "cell_type": "code",
   "execution_count": 4,
   "metadata": {},
   "outputs": [
    {
     "data": {
      "text/plain": [
       "array(['20190620_213113.mp4', '20190612_124811.mp4',\n",
       "       '20190616_085753.mp4', '20190529_154953.mp4',\n",
       "       '20190520_105429.mp4', '20190616_192718.mp4',\n",
       "       '20190608_155249_shavuot.eve.mp4', '20190622_094921.mp4',\n",
       "       '20190612_165539.mp4', '20190620_170634.mp4'], dtype='<U39')"
      ]
     },
     "execution_count": 4,
     "metadata": {},
     "output_type": "execute_result"
    }
   ],
   "source": [
    "all_videos = [f for f in os.listdir(INPUT) if f.endswith('.mp4')]\n",
    "sampled_videos = np.random.choice(all_videos, size=N_VIDEOS, replace=False)\n",
    "sampled_videos"
   ]
  },
  {
   "cell_type": "code",
   "execution_count": 5,
   "metadata": {},
   "outputs": [
    {
     "data": {
      "image/png": "[encoded data removed]",
      "text/plain": [
       "<Figure size 864x72 with 1 Axes>"
      ]
     },
     "metadata": {},
     "output_type": "display_data"
    }
   ],
   "source": [
    "plt.figure(figsize=(12,1))\n",
    "plt.yticks([], [])\n",
    "plt.xlim([0,24])\n",
    "plt.xlabel('Hour of sampled video')\n",
    "plt.plot([int(v[9:11])+int(v[11:13])/60 for v in sampled_videos], [0 for _ in sampled_videos], 'ko');"
   ]
  },
  {
   "cell_type": "markdown",
   "metadata": {},
   "source": [
    "### Sample frames & save"
   ]
  },
  {
   "cell_type": "code",
   "execution_count": 7,
   "metadata": {
    "collapsed": true
   },
   "outputs": [],
   "source": [
    "for video in sampled_videos:\n",
    "    \n",
    "    cap = cv2.VideoCapture(str(INPUT/video))\n",
    "    n_frames = int(cap.get(cv2.CAP_PROP_FRAME_COUNT))\n",
    "    sampled_frames = sorted(np.random.randint(0,n_frames,FRAMES_PER_VIDEO))\n",
    "    \n",
    "    for i in sampled_frames:\n",
    "        cap.set(cv2.CAP_PROP_POS_FRAMES, i)\n",
    "        _, frame = cap.read()\n",
    "        cv2.imwrite(str(OUTPUT/(video[:-4] + '_' + str(i) + '.png')), frame)"
   ]
  }
 ],
 "metadata": {
  "kernelspec": {
   "display_name": "Python 3",
   "language": "python",
   "name": "python3"
  },
  "language_info": {
   "codemirror_mode": {
    "name": "ipython",
    "version": 3
   },
   "file_extension": ".py",
   "mimetype": "text/x-python",
   "name": "python",
   "nbconvert_exporter": "python",
   "pygments_lexer": "ipython3",
   "version": "3.6.8"
  }
 },
 "nbformat": 4,
 "nbformat_minor": 2
}
